{
 "cells": [
  {
   "cell_type": "code",
   "execution_count": 48,
   "metadata": {},
   "outputs": [],
   "source": [
    "import os\n",
    "from dotenv import load_dotenv\n",
    "from minio import Minio\n",
    "import duckdb\n",
    "import tempfile"
   ]
  },
  {
   "cell_type": "code",
   "execution_count": 49,
   "metadata": {},
   "outputs": [
    {
     "data": {
      "text/plain": [
       "True"
      ]
     },
     "execution_count": 49,
     "metadata": {},
     "output_type": "execute_result"
    }
   ],
   "source": [
    "# Carrega variáveis de ambiente\n",
    "load_dotenv()"
   ]
  },
  {
   "cell_type": "code",
   "execution_count": 50,
   "metadata": {},
   "outputs": [],
   "source": [
    "# Configurações (via .env)\n",
    "MINIO_ENDPOINT = os.getenv(\"MINIO_ENDPOINT\")\n",
    "MINIO_ACCESS = os.getenv(\"MINIO_ACCESS_KEY\")\n",
    "MINIO_SECRET = os.getenv(\"MINIO_SECRET_KEY\")\n",
    "BUCKET_NAME = os.getenv(\"MINIO_BUCKET\")"
   ]
  },
  {
   "cell_type": "code",
   "execution_count": 51,
   "metadata": {},
   "outputs": [],
   "source": [
    "# Connect to Minio\n",
    "minio_client = Minio(\n",
    "    MINIO_ENDPOINT,\n",
    "    access_key= MINIO_ACCESS,\n",
    "    secret_key= MINIO_SECRET,\n",
    "    secure= False                   # True se estiver usando HTTPS\n",
    "    \n",
    ")"
   ]
  },
  {
   "cell_type": "code",
   "execution_count": 52,
   "metadata": {},
   "outputs": [
    {
     "name": "stdout",
     "output_type": "stream",
     "text": [
      "MinIO connection working\n"
     ]
    }
   ],
   "source": [
    "# Minimal connection test\n",
    "try:\n",
    "    minio_client.list_buckets()  # Simplest API call to test connectivity\n",
    "    print(\"MinIO connection working\")\n",
    "except Exception as e:\n",
    "    print(f\"Connection failed: {str(e)}\")"
   ]
  },
  {
   "cell_type": "code",
   "execution_count": 53,
   "metadata": {},
   "outputs": [],
   "source": [
    "# Nomes dos buckets\n",
    "landing_bucket = \"test-bucket\"               #\"landing-zone-integrated\"  # Bucket de origem\n",
    "structured_bucket = \"raw-zone-bronze\"        # Bucket de destino"
   ]
  },
  {
   "cell_type": "code",
   "execution_count": 54,
   "metadata": {},
   "outputs": [],
   "source": [
    "input_file = \"campeonato_brasileiro_2024.parquet\""
   ]
  },
  {
   "cell_type": "code",
   "execution_count": 55,
   "metadata": {},
   "outputs": [],
   "source": [
    "# Criar conexao com duckdb em memoria\n",
    "conn = duckdb.connect(':memory')"
   ]
  },
  {
   "cell_type": "code",
   "execution_count": 56,
   "metadata": {},
   "outputs": [
    {
     "data": {
      "text/plain": [
       "<minio.datatypes.Object at 0x73eddb797ce0>"
      ]
     },
     "execution_count": 56,
     "metadata": {},
     "output_type": "execute_result"
    }
   ],
   "source": [
    "# Download do arquivo\n",
    "tempfile.NamedTemporaryFile(suffix='.parquet')\n",
    "minio_client.fget_object(landing_bucket, input_file, input_file)"
   ]
  },
  {
   "cell_type": "code",
   "execution_count": 57,
   "metadata": {},
   "outputs": [],
   "source": [
    "# Carregar e transformar dados\n",
    "resultado = conn.execute(f\"\"\"\n",
    "            SELECT pos, \n",
    "                   Equipevde,\n",
    "                   Pts\n",
    "                   FROM read_parquet('{input_file}')\n",
    "            \"\"\").df()"
   ]
  },
  {
   "cell_type": "code",
   "execution_count": 58,
   "metadata": {},
   "outputs": [
    {
     "data": {
      "text/html": [
       "<div>\n",
       "<style scoped>\n",
       "    .dataframe tbody tr th:only-of-type {\n",
       "        vertical-align: middle;\n",
       "    }\n",
       "\n",
       "    .dataframe tbody tr th {\n",
       "        vertical-align: top;\n",
       "    }\n",
       "\n",
       "    .dataframe thead th {\n",
       "        text-align: right;\n",
       "    }\n",
       "</style>\n",
       "<table border=\"1\" class=\"dataframe\">\n",
       "  <thead>\n",
       "    <tr style=\"text-align: right;\">\n",
       "      <th></th>\n",
       "      <th>Pos</th>\n",
       "      <th>Equipevde</th>\n",
       "      <th>Pts</th>\n",
       "    </tr>\n",
       "  </thead>\n",
       "  <tbody>\n",
       "    <tr>\n",
       "      <th>0</th>\n",
       "      <td>1</td>\n",
       "      <td>Botafogo (C)</td>\n",
       "      <td>79</td>\n",
       "    </tr>\n",
       "    <tr>\n",
       "      <th>1</th>\n",
       "      <td>2</td>\n",
       "      <td>Palmeiras</td>\n",
       "      <td>73</td>\n",
       "    </tr>\n",
       "    <tr>\n",
       "      <th>2</th>\n",
       "      <td>3</td>\n",
       "      <td>Flamengo</td>\n",
       "      <td>70</td>\n",
       "    </tr>\n",
       "    <tr>\n",
       "      <th>3</th>\n",
       "      <td>4</td>\n",
       "      <td>Fortaleza</td>\n",
       "      <td>68</td>\n",
       "    </tr>\n",
       "    <tr>\n",
       "      <th>4</th>\n",
       "      <td>5</td>\n",
       "      <td>Internacional</td>\n",
       "      <td>65</td>\n",
       "    </tr>\n",
       "    <tr>\n",
       "      <th>5</th>\n",
       "      <td>6</td>\n",
       "      <td>São Paulo</td>\n",
       "      <td>59</td>\n",
       "    </tr>\n",
       "    <tr>\n",
       "      <th>6</th>\n",
       "      <td>7</td>\n",
       "      <td>Corinthians</td>\n",
       "      <td>56</td>\n",
       "    </tr>\n",
       "    <tr>\n",
       "      <th>7</th>\n",
       "      <td>8</td>\n",
       "      <td>Bahia</td>\n",
       "      <td>53</td>\n",
       "    </tr>\n",
       "    <tr>\n",
       "      <th>8</th>\n",
       "      <td>9</td>\n",
       "      <td>Cruzeiro</td>\n",
       "      <td>52</td>\n",
       "    </tr>\n",
       "    <tr>\n",
       "      <th>9</th>\n",
       "      <td>10</td>\n",
       "      <td>Vasco da Gama</td>\n",
       "      <td>50</td>\n",
       "    </tr>\n",
       "    <tr>\n",
       "      <th>10</th>\n",
       "      <td>11</td>\n",
       "      <td>Vitória</td>\n",
       "      <td>47</td>\n",
       "    </tr>\n",
       "    <tr>\n",
       "      <th>11</th>\n",
       "      <td>12</td>\n",
       "      <td>Atlético Mineiro</td>\n",
       "      <td>47</td>\n",
       "    </tr>\n",
       "    <tr>\n",
       "      <th>12</th>\n",
       "      <td>13</td>\n",
       "      <td>Fluminense</td>\n",
       "      <td>46</td>\n",
       "    </tr>\n",
       "    <tr>\n",
       "      <th>13</th>\n",
       "      <td>14</td>\n",
       "      <td>Grêmio</td>\n",
       "      <td>45</td>\n",
       "    </tr>\n",
       "    <tr>\n",
       "      <th>14</th>\n",
       "      <td>15</td>\n",
       "      <td>Juventude</td>\n",
       "      <td>45</td>\n",
       "    </tr>\n",
       "    <tr>\n",
       "      <th>15</th>\n",
       "      <td>16</td>\n",
       "      <td>Red Bull Bragantino</td>\n",
       "      <td>44</td>\n",
       "    </tr>\n",
       "    <tr>\n",
       "      <th>16</th>\n",
       "      <td>17</td>\n",
       "      <td>Athletico Paranaense</td>\n",
       "      <td>42</td>\n",
       "    </tr>\n",
       "    <tr>\n",
       "      <th>17</th>\n",
       "      <td>18</td>\n",
       "      <td>Criciúma</td>\n",
       "      <td>38</td>\n",
       "    </tr>\n",
       "    <tr>\n",
       "      <th>18</th>\n",
       "      <td>19</td>\n",
       "      <td>Atlético Goianiense</td>\n",
       "      <td>30</td>\n",
       "    </tr>\n",
       "    <tr>\n",
       "      <th>19</th>\n",
       "      <td>20</td>\n",
       "      <td>Cuiabá</td>\n",
       "      <td>30</td>\n",
       "    </tr>\n",
       "  </tbody>\n",
       "</table>\n",
       "</div>"
      ],
      "text/plain": [
       "    Pos             Equipevde  Pts\n",
       "0     1          Botafogo (C)   79\n",
       "1     2             Palmeiras   73\n",
       "2     3              Flamengo   70\n",
       "3     4             Fortaleza   68\n",
       "4     5         Internacional   65\n",
       "5     6             São Paulo   59\n",
       "6     7           Corinthians   56\n",
       "7     8                 Bahia   53\n",
       "8     9              Cruzeiro   52\n",
       "9    10         Vasco da Gama   50\n",
       "10   11               Vitória   47\n",
       "11   12      Atlético Mineiro   47\n",
       "12   13            Fluminense   46\n",
       "13   14                Grêmio   45\n",
       "14   15             Juventude   45\n",
       "15   16   Red Bull Bragantino   44\n",
       "16   17  Athletico Paranaense   42\n",
       "17   18              Criciúma   38\n",
       "18   19   Atlético Goianiense   30\n",
       "19   20                Cuiabá   30"
      ]
     },
     "metadata": {},
     "output_type": "display_data"
    }
   ],
   "source": [
    "display(resultado)"
   ]
  },
  {
   "cell_type": "code",
   "execution_count": 59,
   "metadata": {},
   "outputs": [
    {
     "name": "stdout",
     "output_type": "stream",
     "text": [
      "Arquivo salvo com sucesso em raw-zone-bronze/brasileiro_processado.parquet\n"
     ]
    }
   ],
   "source": [
    "# 1. Criar arquivo temporário\n",
    "temp_file = tempfile.NamedTemporaryFile(suffix='.parquet', delete=False)\n",
    "resultado.to_parquet(temp_file.name)\n",
    "temp_file.close()  # Fechar o arquivo para liberar para upload\n",
    "\n",
    "# 2. Fazer upload para o MinIO\n",
    "minio_client.fput_object(\n",
    "    \"raw-zone-bronze\",\n",
    "    \"brasileiro_processado.parquet\",\n",
    "    temp_file.name\n",
    ")\n",
    "\n",
    "# 3. Limpar o arquivo temporário\n",
    "os.unlink(temp_file.name)\n",
    "\n",
    "print(\"Arquivo salvo com sucesso em raw-zone-bronze/brasileiro_processado.parquet\")"
   ]
  }
 ],
 "metadata": {
  "kernelspec": {
   "display_name": ".venv",
   "language": "python",
   "name": "python3"
  },
  "language_info": {
   "codemirror_mode": {
    "name": "ipython",
    "version": 3
   },
   "file_extension": ".py",
   "mimetype": "text/x-python",
   "name": "python",
   "nbconvert_exporter": "python",
   "pygments_lexer": "ipython3",
   "version": "3.12.3"
  }
 },
 "nbformat": 4,
 "nbformat_minor": 2
}
